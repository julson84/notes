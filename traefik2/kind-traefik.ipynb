{
 "cells": [
  {
   "cell_type": "markdown",
   "metadata": {},
   "source": [
    "# Kind Cluster erstellen"
   ]
  },
  {
   "cell_type": "code",
   "execution_count": null,
   "metadata": {
    "scrolled": false
   },
   "outputs": [],
   "source": [
    ". kubernetes-utils\n",
    "create-kind-cluster traefik2-test\n",
    "\n",
    "export KUBECONFIG=\"$(kind get kubeconfig-path --name=\"traefik2-test\")\"\n",
    "kubectl cluster-info"
   ]
  },
  {
   "cell_type": "code",
   "execution_count": null,
   "metadata": {
    "scrolled": true
   },
   "outputs": [],
   "source": [
    "kubectl create ns traefik\n",
    "kubectl apply -f crd.yaml -n traefik\n",
    "kubectl apply -f service.yaml -n traefik\n",
    "kubectl apply -f deployment.yaml -n traefik\n",
    "kubectl rollout status deploy traefik -n traefik"
   ]
  },
  {
   "cell_type": "code",
   "execution_count": null,
   "metadata": {},
   "outputs": [],
   "source": [
    "helm repo add maesh https://containous.github.io/maesh/charts\n",
    "helm repo update\n",
    "helm tiller start-ci\n",
    "helm install --name=maesh --namespace=maesh maesh/maesh\n",
    "helm tiller stop"
   ]
  },
  {
   "cell_type": "code",
   "execution_count": null,
   "metadata": {},
   "outputs": [],
   "source": [
    "helm fetch \\\n",
    "  --repo https://containous.github.io/maesh/charts \\\n",
    "  --untar \\\n",
    "  --untardir ./charts \\\n",
    "    maesh\n",
    "if [ ! -d manifests ]; then mkdir manifests; fi\n",
    "helm template \\\n",
    "  --values ./charts/maesh/values.yaml \\\n",
    "  --output-dir ./manifests \\\n",
    "    ./charts/maesh"
   ]
  },
  {
   "cell_type": "code",
   "execution_count": null,
   "metadata": {},
   "outputs": [],
   "source": [
    "kubectl apply --recursive --filename ./manifests/maesh -n maesh\n",
    "kubectl rollout status deploy maesh-controller -n maesh"
   ]
  },
  {
   "cell_type": "code",
   "execution_count": null,
   "metadata": {},
   "outputs": [],
   "source": [
    "kubectl annotate service \\\n",
    "    whoami maesh.containo.us/traffic-type=http -n traefik"
   ]
  },
  {
   "cell_type": "code",
   "execution_count": null,
   "metadata": {},
   "outputs": [],
   "source": [
    "kubectl apply -f ingress-route.yaml -n traefik"
   ]
  },
  {
   "cell_type": "code",
   "execution_count": null,
   "metadata": {
    "scrolled": true
   },
   "outputs": [],
   "source": [
    "kubectl patch service prometheus -n maesh --patch \"$(cat prometheus-service.yaml )\"\n",
    "kubectl apply -f prometheus.yaml -n maesh\n",
    "kubectl rollout status deploy prometheus-core -n maesh"
   ]
  },
  {
   "cell_type": "code",
   "execution_count": null,
   "metadata": {},
   "outputs": [],
   "source": [
    "kubectl patch service grafana -n maesh --patch \"$(cat grafana-service.yaml )\"\n",
    "kubectl apply -f grafana.yaml -n maesh\n",
    "kubectl rollout status deploy grafana-core -n maesh"
   ]
  },
  {
   "cell_type": "code",
   "execution_count": null,
   "metadata": {},
   "outputs": [],
   "source": [
    "delete-kind-cluster"
   ]
  },
  {
   "cell_type": "code",
   "execution_count": null,
   "metadata": {},
   "outputs": [],
   "source": []
  }
 ],
 "metadata": {
  "kernelspec": {
   "display_name": "Bash",
   "language": "bash",
   "name": "bash"
  },
  "language_info": {
   "codemirror_mode": "shell",
   "file_extension": ".sh",
   "mimetype": "text/x-sh",
   "name": "bash"
  }
 },
 "nbformat": 4,
 "nbformat_minor": 2
}
