{
 "cells": [
  {
   "cell_type": "code",
   "execution_count": null,
   "metadata": {},
   "outputs": [],
   "source": [
    ". kubernetes-utils\n",
    "create-kind-cluster traefik2-test\n",
    "\n",
    "export KUBECONFIG=\"$(kind get kubeconfig-path --name=\"traefik2-test\")\"\n",
    "kubectl cluster-info"
   ]
  },
  {
   "cell_type": "code",
   "execution_count": null,
   "metadata": {
    "scrolled": true
   },
   "outputs": [],
   "source": [
    "kubectl create ns traefik\n",
    "kubectl apply -f crd.yaml -n traefik\n",
    "kubectl apply -f service.yaml -n traefik\n",
    "kubectl apply -f deployment.yaml -n traefik\n",
    "kubectl rollout status deploy traefik -n traefik"
   ]
  },
  {
   "cell_type": "code",
   "execution_count": null,
   "metadata": {},
   "outputs": [],
   "source": [
    "kubectl apply -f ingress-route.yaml -n traefik"
   ]
  },
  {
   "cell_type": "code",
   "execution_count": null,
   "metadata": {},
   "outputs": [],
   "source": [
    "kubectl -n kube-system create serviceaccount tiller\n",
    "kubectl create clusterrolebinding tiller --clusterrole cluster-admin --serviceaccount=kube-system:tiller\n",
    "helm init --service-account tiller"
   ]
  },
  {
   "cell_type": "code",
   "execution_count": null,
   "metadata": {
    "scrolled": true
   },
   "outputs": [],
   "source": [
    "helm repo add maesh https://containous.github.io/maesh/charts\n",
    "helm repo update\n",
    "helm install --name=maesh --namespace=maesh maesh/maesh"
   ]
  },
  {
   "cell_type": "code",
   "execution_count": null,
   "metadata": {},
   "outputs": [],
   "source": [
    "kubectl annotate service \\\n",
    "    whoami maesh.containo.us/traffic-type=http -n traefik"
   ]
  },
  {
   "cell_type": "code",
   "execution_count": null,
   "metadata": {},
   "outputs": [],
   "source": [
    "delete-kind-cluster"
   ]
  },
  {
   "cell_type": "code",
   "execution_count": null,
   "metadata": {},
   "outputs": [],
   "source": []
  }
 ],
 "metadata": {
  "kernelspec": {
   "display_name": "Bash",
   "language": "bash",
   "name": "bash"
  },
  "language_info": {
   "codemirror_mode": "shell",
   "file_extension": ".sh",
   "mimetype": "text/x-sh",
   "name": "bash"
  }
 },
 "nbformat": 4,
 "nbformat_minor": 2
}
